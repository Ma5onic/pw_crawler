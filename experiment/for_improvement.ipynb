{
 "cells": [
  {
   "cell_type": "code",
   "execution_count": 4,
   "metadata": {
    "collapsed": true
   },
   "outputs": [],
   "source": [
    "from rdflib import Graph, RDF, URIRef, Namespace\n",
    "import numpy as np\n",
    "import pandas as pd\n",
    "from pandas import Series, DataFrame\n",
    "import matplotlib.pyplot as plt\n",
    "%matplotlib inline\n",
    "import experiment as exp\n"
   ]
  },
  {
   "cell_type": "code",
   "execution_count": 2,
   "metadata": {
    "collapsed": true
   },
   "outputs": [],
   "source": [
    "g = Graph()\n",
    "g.parse(\"../graph/experiment_graph.ttl\", format=\"turtle\")\n",
    "foaf = Namespace(\"http://xmlns.com/foaf/0.1/\")\n",
    "localNS = Namespace(\"http://deepweb.ut.ee/ontologies/api-network#\")"
   ]
  },
  {
   "cell_type": "code",
   "execution_count": 3,
   "metadata": {
    "collapsed": true
   },
   "outputs": [],
   "source": [
    "ns = dict(api_network=localNS, cat= Namespace(\"http://www.programmableweb.com/category/\"), \n",
    "          rdf = RDF, gr = Namespace(\"http://purl.org/goodrelations/v1#\"), pw_api = Namespace(\"http://www.programmableweb.com/api/\") )"
   ]
  },
  {
   "cell_type": "markdown",
   "metadata": {},
   "source": [
    "###Preparing diffusion matrix###"
   ]
  },
  {
   "cell_type": "code",
   "execution_count": 49,
   "metadata": {
    "collapsed": false
   },
   "outputs": [
    {
     "name": "stdout",
     "output_type": "stream",
     "text": [
      "168\n",
      "execution time: 0.08255815505981445 ----\n"
     ]
    }
   ],
   "source": [
    "def count_num_of_transitions(cat1, cat2):\n",
    "    r = g.query(\"\"\"SELECT ?s ?m WHERE { ?s ?p api_network:API .\n",
    "                    ?m rdf:type api_network:Mashup .\n",
    "                    ?m gr:include ?s .\n",
    "                    ?s api_network:primaryCategory|api_network:secondaryCategory cat:%s. \n",
    "                    ?m api_network:tag cat:%s}\"\"\" % (cat1, cat2) , initNs=ns)\n",
    "    return len(r)\n",
    "import time\n",
    "start_time = time.time()\n",
    "print(count_num_of_transitions(\"mapping\", \"england\"))\n",
    "print(\"execution time: %s \" % (time.time() - start_time))"
   ]
  },
  {
   "cell_type": "code",
   "execution_count": 11,
   "metadata": {
    "collapsed": true
   },
   "outputs": [],
   "source": [
    "def count_popular_categories():\n",
    "    r = g.query(\"\"\"SELECT ?c (COUNT(?c) as ?catCount) WHERE  {\n",
    "                    ?s api_network:primaryCategory|api_network:secondaryCategory ?c .\n",
    "                    }\n",
    "                    GROUP BY ?c\"\"\", initNs=ns)\n",
    "    frame = DataFrame()\n",
    "    frame[\"Category\"] = [t[\"?c\"].toPython() for t in r.bindings]\n",
    "    frame[\"Count\"] = [t[\"?catCount\"].toPython() for t in r.bindings]\n",
    "    #frame = frame.sort(\"Count\", ascending = 0)\n",
    "    selected = frame[frame[\"Count\"]>0][\"Category\"] #Series of top used categories\n",
    "    return selected"
   ]
  },
  {
   "cell_type": "code",
   "execution_count": 12,
   "metadata": {
    "collapsed": true
   },
   "outputs": [],
   "source": [
    "selected = count_popular_categories()"
   ]
  },
  {
   "cell_type": "code",
   "execution_count": 17,
   "metadata": {
    "collapsed": false
   },
   "outputs": [],
   "source": [
    "selected = [s.replace(\"http://www.programmableweb.com/category/\", \"\") for s in selected]"
   ]
  },
  {
   "cell_type": "code",
   "execution_count": 93,
   "metadata": {
    "collapsed": true
   },
   "outputs": [],
   "source": [
    "#run at home to get a complete version\n",
    "import itertools\n",
    "result = []\n",
    "for pair in itertools.product(selected, repeat=2):\n",
    "    result.append(list(pair)+[count_num_of_transitions(*pair)])"
   ]
  },
  {
   "cell_type": "code",
   "execution_count": 96,
   "metadata": {
    "collapsed": true
   },
   "outputs": [],
   "source": [
    "diffusion_frame = DataFrame(result, columns = [\"API Category\", \"Mashup Category\", \"Num of Transactions\"])"
   ]
  },
  {
   "cell_type": "code",
   "execution_count": 97,
   "metadata": {
    "collapsed": true
   },
   "outputs": [],
   "source": [
    "diffusion_frame_for_weights = diffusion_frame.pivot(\"API Category\", \"Mashup Category\", \"Num of Transactions\")"
   ]
  },
  {
   "cell_type": "code",
   "execution_count": 165,
   "metadata": {
    "collapsed": false
   },
   "outputs": [],
   "source": [
    "#diffusion_frame_for_weights.to_csv(\"diffusion_matrix.csv\")\n",
    "diffusion_frame_for_weights = pd.read_csv(\"diffusion_matrix.csv\", index_col=0)\n",
    "diffusion_frame_for_weights = diffusion_frame_for_weights.astype(float)\n",
    "#diffusion_frame_for_weights.dtypes"
   ]
  },
  {
   "cell_type": "code",
   "execution_count": 166,
   "metadata": {
    "collapsed": false
   },
   "outputs": [],
   "source": [
    "for column in diffusion_frame_for_weights:\n",
    "    diagonal = diffusion_frame_for_weights[column][column]\n",
    "    maximum = diffusion_frame_for_weights[column].max()\n",
    "    if diffusion_frame_for_weights[column].sum() != 0: # if sum of column not 0\n",
    "        if diagonal != 0: # if there is something on diagonal\n",
    "            for i, val in diffusion_frame_for_weights[column].iteritems():\n",
    "                diffusion_frame_for_weights.set_value(i, column, float(val)/diagonal)\n",
    "        else:\n",
    "            for i, val in diffusion_frame_for_weights[column].iteritems():\n",
    "                diffusion_frame_for_weights.set_value(i, column, float(val)/maximum)        "
   ]
  },
  {
   "cell_type": "code",
   "execution_count": 168,
   "metadata": {
    "collapsed": false
   },
   "outputs": [],
   "source": [
    "#diffusion_frame_for_weights.to_csv(\"weighted_diffusion_matrix.csv\")"
   ]
  },
  {
   "cell_type": "code",
   "execution_count": 205,
   "metadata": {
    "collapsed": true
   },
   "outputs": [],
   "source": [
    "df_weights = pd.read_csv(\"weighted_diffusion_matrix.csv\", index_col=0)"
   ]
  },
  {
   "cell_type": "code",
   "execution_count": 207,
   "metadata": {
    "collapsed": false
   },
   "outputs": [
    {
     "data": {
      "text/plain": [
       "1.0"
      ]
     },
     "execution_count": 207,
     "metadata": {},
     "output_type": "execute_result"
    }
   ],
   "source": [
    "df_weights[\"3d\"][\"3d\"]"
   ]
  },
  {
   "cell_type": "markdown",
   "metadata": {},
   "source": [
    "###Testing SC with Diffusion matrix###"
   ]
  },
  {
   "cell_type": "code",
   "execution_count": 179,
   "metadata": {
    "collapsed": true
   },
   "outputs": [],
   "source": [
    "mashup = \"http://www.programmableweb.com/mashup/semaflickr\""
   ]
  },
  {
   "cell_type": "code",
   "execution_count": 180,
   "metadata": {
    "collapsed": true
   },
   "outputs": [],
   "source": [
    "query = exp.compose_query(g, mashup)"
   ]
  },
  {
   "cell_type": "code",
   "execution_count": 183,
   "metadata": {
    "collapsed": false
   },
   "outputs": [],
   "source": [
    "S = query[\"categories\"]\n",
    "M = exp.candidate_set(query, g)\n",
    "actual = query[\"services\"]\n",
    "k=5"
   ]
  },
  {
   "cell_type": "code",
   "execution_count": 184,
   "metadata": {
    "collapsed": true
   },
   "outputs": [],
   "source": [
    "result = exp.Greedy(g, S, M, k ,1, 0, 1)"
   ]
  },
  {
   "cell_type": "code",
   "execution_count": 186,
   "metadata": {
    "collapsed": false
   },
   "outputs": [],
   "source": [
    "services = result[0]"
   ]
  },
  {
   "cell_type": "code",
   "execution_count": 210,
   "metadata": {
    "collapsed": false
   },
   "outputs": [
    {
     "name": "stdout",
     "output_type": "stream",
     "text": [
      "1.3\n",
      "2.08230054034\n"
     ]
    }
   ],
   "source": [
    "print(exp.sc(services, S, g))\n",
    "print(sc_with_weights(services, S, g, diffusion_frame_for_weights))"
   ]
  },
  {
   "cell_type": "code",
   "execution_count": 208,
   "metadata": {
    "collapsed": true
   },
   "outputs": [],
   "source": [
    "def intersections_with_weight(categories, S, diffusion_frame_for_weights):\n",
    "    total_weight = 0\n",
    "    categories = [s.replace(\"http://www.programmableweb.com/category/\", \"\") for s in categories]\n",
    "    S = [s.replace(\"http://www.programmableweb.com/category/\", \"\") for s in S] \n",
    "    for cat in categories:\n",
    "        for s in S:\n",
    "            #if cat == s:\n",
    "            #    total_weight+=1\n",
    "            #else:\n",
    "            total_weight += diffusion_frame_for_weights[cat][s]\n",
    "    return total_weight"
   ]
  },
  {
   "cell_type": "code",
   "execution_count": 201,
   "metadata": {
    "collapsed": true
   },
   "outputs": [],
   "source": [
    "def get_categories(services, g):\n",
    "    primary_categories = []\n",
    "    secondary_categories = []\n",
    "    for service in services:\n",
    "        rows = g.query(\"\"\"SELECT ?c WHERE {\n",
    "            <%s> api_network:primaryCategory ?c .}\"\"\" % service, initNs=ns)\n",
    "        p_cats = [t[\"?c\"] for t in rows.bindings]\n",
    "        primary_categories = primary_categories + list(set(p_cats) - set(primary_categories))\n",
    "        rows2 = g.query(\"\"\"SELECT ?c WHERE {\n",
    "            <%s> api_network:secondaryCategory ?c .}\"\"\" % service, initNs=ns)\n",
    "        s_cats = [t[\"?c\"] for t in rows2.bindings]\n",
    "        secondary_categories = secondary_categories + list(set(s_cats) - set(secondary_categories))\n",
    "    return (primary_categories, secondary_categories)\n",
    "\n",
    "def get_intersections_with_weights(services, S, g, diffusion_frame_for_weights):\n",
    "    services_categories = get_categories(services, g)\n",
    "    primary_intersection_weight = intersections_with_weight(services_categories[0], S, diffusion_frame_for_weights)#[val for val in services_categories[0] if val in S]\n",
    "    secondary_intersection_weight = intersections_with_weight(services_categories[1], S, diffusion_frame_for_weights)#[val for val in services_categories[1] if val in S]\n",
    "    return (primary_intersection_weight, secondary_intersection_weight)"
   ]
  },
  {
   "cell_type": "code",
   "execution_count": 204,
   "metadata": {
    "collapsed": true
   },
   "outputs": [],
   "source": [
    "def sc_with_weights(services, S, g, diffusion_frame_for_weights):\n",
    "    # services_categories = get_categories(services)\n",
    "    # primary_intersection = [val for val in services_categories[0] if val in S]\n",
    "    # secondary_intersection = [val for val in services_categories[1] if val in S]\n",
    "    intersections = get_intersections_with_weights(services, S, g, diffusion_frame_for_weights)\n",
    "    return (intersections[0]+0.3*intersections[1])/len(S)  # number of requested categories in service is devided by size of requested categories"
   ]
  },
  {
   "cell_type": "code",
   "execution_count": 267,
   "metadata": {
    "collapsed": false
   },
   "outputs": [
    {
     "data": {
      "text/plain": [
       "10"
      ]
     },
     "execution_count": 267,
     "metadata": {},
     "output_type": "execute_result"
    }
   ],
   "source": [
    "import datetime\n",
    "rows = g.query(\"\"\"SELECT ?m ?d WHERE {?m ?p api_network:Mashup .\n",
    "                  ?m api_network:registrationDate ?d .}\"\"\", initNs=ns)\n",
    "mashup_regs = DataFrame()\n",
    "mashup_regs[\"Mashup\"] = [t[\"?m\"].toPython() for t in rows.bindings]\n",
    "mashup_regs[\"Registration\"] = [t[\"?d\"].toPython() for t in rows.bindings]\n",
    "mashup_for_experiment = mashup_regs[mashup_regs[\"Registration\"] > datetime.date(2015, 6, 13)][\"Mashup\"]  # select 65 mashups\n",
    "len(mashup_for_experiment)"
   ]
  },
  {
   "cell_type": "code",
   "execution_count": 214,
   "metadata": {
    "collapsed": true
   },
   "outputs": [],
   "source": [
    "def get_services_by_category(category, reg_date, g):\n",
    "    rows = g.query(\"\"\"SELECT DISTINCT ?s WHERE {?s ?p api_network:API .\n",
    "                ?s api_network:primaryCategory|api_network:secondaryCategory cat:%s .\n",
    "                ?m ?p api_network:Mashup .\n",
    "                ?m gr:include ?s .\n",
    "                }\"\"\" % category, initNs=ns)\n",
    "    return [t[\"?s\"] for t in rows.bindings]"
   ]
  },
  {
   "cell_type": "code",
   "execution_count": 249,
   "metadata": {
    "collapsed": true
   },
   "outputs": [],
   "source": [
    "def candidate_set_with_weights(query, g, diffusion_frame_for_weights):\n",
    "    involved_cats = []\n",
    "    for q in [q.replace(\"http://www.programmableweb.com/category/\", \"\") for q in query[\"categories\"]]:  \n",
    "        involved_cats = involved_cats + list(d for d in diffusion_frame_for_weights[q].index if diffusion_frame_for_weights[q][d] > 0)\n",
    "    involved_cats = list(set(involved_cats))    \n",
    "    set_of_services = []\n",
    "    for category in involved_cats:\n",
    "        services = get_services_by_category(category, query[\"reg_date\"], g)\n",
    "        set_of_services = set_of_services + list(set(services) - set(set_of_services))\n",
    "    return set_of_services"
   ]
  },
  {
   "cell_type": "code",
   "execution_count": 216,
   "metadata": {
    "collapsed": false
   },
   "outputs": [
    {
     "data": {
      "text/plain": [
       "224"
      ]
     },
     "execution_count": 216,
     "metadata": {},
     "output_type": "execute_result"
    }
   ],
   "source": [
    "len(candidate_set(query, g))"
   ]
  },
  {
   "cell_type": "code",
   "execution_count": 250,
   "metadata": {
    "collapsed": false
   },
   "outputs": [
    {
     "data": {
      "text/plain": [
       "1490"
      ]
     },
     "execution_count": 250,
     "metadata": {},
     "output_type": "execute_result"
    }
   ],
   "source": [
    "len(candidate_set_with_weights(query, g, diffusion_frame_for_weights))"
   ]
  },
  {
   "cell_type": "code",
   "execution_count": 256,
   "metadata": {
    "collapsed": true
   },
   "outputs": [],
   "source": [
    "def candidate_set_all_activated(g):\n",
    "    rows = g.query(\"\"\"SELECT DISTINCT ?s WHERE {?s ?p api_network:API .\n",
    "                    ?m ?p api_network:Mashup .\n",
    "                    ?m gr:include ?s .\n",
    "                    }\"\"\", initNs=ns)\n",
    "    return [t[\"?s\"] for t in rows.bindings]"
   ]
  },
  {
   "cell_type": "code",
   "execution_count": 257,
   "metadata": {
    "collapsed": false
   },
   "outputs": [],
   "source": [
    "activated = candidate_set_all_activated(g)"
   ]
  },
  {
   "cell_type": "code",
   "execution_count": 258,
   "metadata": {
    "collapsed": false
   },
   "outputs": [
    {
     "data": {
      "text/plain": [
       "1491"
      ]
     },
     "execution_count": 258,
     "metadata": {},
     "output_type": "execute_result"
    }
   ],
   "source": [
    "len(activated)"
   ]
  },
  {
   "cell_type": "code",
   "execution_count": 240,
   "metadata": {
    "collapsed": false
   },
   "outputs": [],
   "source": [
    "involved_cats = []\n",
    "for q in [q.replace(\"http://www.programmableweb.com/category/\", \"\") for q in query[\"categories\"]]:  \n",
    "    involved_cats = involved_cats + list(d for d in diffusion_frame_for_weights[q].index if diffusion_frame_for_weights[q][d] > 0)"
   ]
  },
  {
   "cell_type": "code",
   "execution_count": 245,
   "metadata": {
    "collapsed": false
   },
   "outputs": [
    {
     "name": "stdout",
     "output_type": "stream",
     "text": [
      "360\n",
      "233\n"
     ]
    }
   ],
   "source": [
    "print(len(involved_cats))\n",
    "print(len(list(set(involved_cats))))"
   ]
  }
 ],
 "metadata": {
  "kernelspec": {
   "display_name": "Python 3",
   "language": "python",
   "name": "python3"
  },
  "language_info": {
   "codemirror_mode": {
    "name": "ipython",
    "version": 3
   },
   "file_extension": ".py",
   "mimetype": "text/x-python",
   "name": "python",
   "nbconvert_exporter": "python",
   "pygments_lexer": "ipython3",
   "version": "3.4.3"
  }
 },
 "nbformat": 4,
 "nbformat_minor": 0
}
