{
 "cells": [
  {
   "cell_type": "code",
   "execution_count": 1,
   "metadata": {
    "collapsed": true
   },
   "outputs": [],
   "source": [
    "from rdflib import Graph, RDF, URIRef, Namespace\n",
    "import numpy as np\n",
    "import pandas as pd\n",
    "from pandas import Series, DataFrame\n",
    "import seaborn as sns\n",
    "import matplotlib.pyplot as plt\n",
    "from matplotlib.dates import date2num\n",
    "%matplotlib inline\n",
    "import rdfextras\n",
    "rdfextras.registerplugins()\n",
    "import matplotlib_venn as mv"
   ]
  },
  {
   "cell_type": "code",
   "execution_count": 2,
   "metadata": {
    "collapsed": false
   },
   "outputs": [],
   "source": [
    "g = Graph()\n",
    "g.parse(\"../graph/experiment_graph.ttl\", format=\"turtle\")\n",
    "#g.parse(\"../test/translation_graph.ttl\", format=\"turtle\")\n",
    "foaf = Namespace(\"http://xmlns.com/foaf/0.1/\")\n",
    "localNS = Namespace(\"http://deepweb.ut.ee/ontologies/api-network#\")"
   ]
  },
  {
   "cell_type": "code",
   "execution_count": 3,
   "metadata": {
    "collapsed": true
   },
   "outputs": [],
   "source": [
    "ns = dict(api_network=localNS, cat= Namespace(\"http://www.programmableweb.com/category/\"), \n",
    "          rdf = RDF, gr = Namespace(\"http://purl.org/goodrelations/v1#\"), pw_api = Namespace(\"http://www.programmableweb.com/api/\") )"
   ]
  },
  {
   "cell_type": "code",
   "execution_count": 4,
   "metadata": {
    "collapsed": false
   },
   "outputs": [
    {
     "name": "stdout",
     "output_type": "stream",
     "text": [
      "Num of tripes 497734\n",
      "14028 APIs\n",
      "70328 Users involved\n",
      "7692 Mashups\n"
     ]
    },
    {
     "data": {
      "text/plain": [
       "(461,)"
      ]
     },
     "execution_count": 4,
     "metadata": {},
     "output_type": "execute_result"
    }
   ],
   "source": [
    "#basic counts\n",
    "print(\"Num of tripes \"+str(len(g)))\n",
    "print(str(len(list(g.subjects(RDF.type, localNS.API))))+\" APIs\")\n",
    "print(str(len(list(g.subjects(RDF.type, foaf.OnlineAccount))))+\" Users involved\")\n",
    "print(str(len(list(g.subjects(RDF.type, localNS.Mashup))))+\" Mashups\")\n",
    "#distinct categories\n",
    "categories = []\n",
    "for i in g.objects(None, localNS.secondaryCategory):\n",
    "    categories.append(i)\n",
    "cat_np = np.array(categories)\n",
    "unique = np.unique(cat_np)\n",
    "unique.shape"
   ]
  },
  {
   "cell_type": "code",
   "execution_count": 65,
   "metadata": {
    "collapsed": false
   },
   "outputs": [
    {
     "data": {
      "text/plain": [
       "([<matplotlib.axis.XTick at 0x7fa1bb93eba8>,\n",
       "  <matplotlib.axis.XTick at 0x7fa1bb93e9b0>,\n",
       "  <matplotlib.axis.XTick at 0x7fa1bb9420b8>,\n",
       "  <matplotlib.axis.XTick at 0x7fa1bb604470>,\n",
       "  <matplotlib.axis.XTick at 0x7fa1bb604f60>,\n",
       "  <matplotlib.axis.XTick at 0x7fa1bb608a90>],\n",
       " <a list of 6 Text xticklabel objects>)"
      ]
     },
     "execution_count": 65,
     "metadata": {},
     "output_type": "execute_result"
    },
    {
     "data": {
      "image/png": "[encoded data removed]",
      "text/plain": [
       "<matplotlib.figure.Figure at 0x7fa1bbdb1a20>"
      ]
     },
     "metadata": {},
     "output_type": "display_data"
    }
   ],
   "source": [
    "def get_data_by_category(category):\n",
    "    rows = g.query(\"\"\"SELECT ?s ?d WHERE {?s ?p api_network:API .\n",
    "                                        ?s api_network:registrationDate ?d . \n",
    "                                        ?s api_network:primaryCategory|api_network:secondaryCategory cat:%s .}\"\"\" % category, initNs=ns)\n",
    "    #print(len([t[\"?s\"] for t in rows.bindings]))\n",
    "    dates = [t[\"?d\"] for t in rows.bindings]\n",
    "    return [r.toPython() for r in dates]\n",
    "categories = [\"search\", \"mapping\", \"tools\", \"social\", \"ecommerce\"]\n",
    "dict_of_dates = {}\n",
    "for cat in categories:\n",
    "    dict_of_dates[cat]=get_data_by_category(cat)\n",
    "#for key in dict_of_dates:\n",
    "#    plt.hist(date2num(dict_of_dates[key]), cumulative=True, bins = 50, label = key)\n",
    "plt.hist(date2num(dict_of_dates[\"social\"]), cumulative=True, bins = 50, label = \"social\")\n",
    "plt.hist(date2num(dict_of_dates[\"tools\"]), cumulative=True, bins = 50, label = \"tools\")\n",
    "plt.hist(date2num(dict_of_dates[\"ecommerce\"]), cumulative=True, bins = 50, label = \"ecommerce\")\n",
    "plt.hist(date2num(dict_of_dates[\"mapping\"]), cumulative=True, bins = 50, label = \"mapping\")\n",
    "plt.hist(date2num(dict_of_dates[\"search\"]), cumulative=True, bins = 50, label = \"search\")\n",
    "\n",
    "plt.legend(loc=2)\n",
    "x=date2num(dict_of_dates[\"mapping\"])\n",
    "plt.xticks(np.arange(min(x), max(x)+1, (max(x)+1 - min(x))/5.3), [\"2005\", \"2007\", \"2009\", \"2011\", \"2013\", \"2015\"])\n",
    "#def plot_kd(list_of_dates):\n",
    "#    s = Series(date2num(list_of_dates))\n",
    "#    xcol, ycol = sns.kdeplot(s, color = \"w\").get_lines().pop().get_data()\n",
    "#    ycol=np.cumsum(ycol)\n",
    "#    line, = plt.plot(xcol,ycol)\n",
    "#    return line"
   ]
  },
  {
   "cell_type": "code",
   "execution_count": 8,
   "metadata": {
    "collapsed": false
   },
   "outputs": [],
   "source": [
    "#def get_data_by_protocol(protocol):\n",
    "rows = g.query(\"\"\"SELECT DISTINCT ?p WHERE {?s rdf:type api_network:API .\n",
    "                                    ?s api_network:protocol ?p .}\"\"\", initNs=ns)\n",
    "protocols = [p[\"?p\"] for p in rows.bindings]"
   ]
  },
  {
   "cell_type": "code",
   "execution_count": 9,
   "metadata": {
    "collapsed": false
   },
   "outputs": [
    {
     "name": "stdout",
     "output_type": "stream",
     "text": [
      "Examples of protocols:\n",
      "[rdflib.term.Literal('JSON'), rdflib.term.Literal('REST'), rdflib.term.Literal('XML'), rdflib.term.Literal('SOAP'), rdflib.term.Literal('CSV'), rdflib.term.Literal('JSONP'), rdflib.term.Literal('YAML'), rdflib.term.Literal('SRU, OAI-PMH'), rdflib.term.Literal('HTTP'), rdflib.term.Literal('JavaScript')]\n",
      "Total number of distinct protocols: 532\n"
     ]
    }
   ],
   "source": [
    "print(\"Examples of protocols:\")\n",
    "print(protocols[0:10])\n",
    "print(\"Total number of distinct protocols:\", len(protocols))"
   ]
  },
  {
   "cell_type": "code",
   "execution_count": 10,
   "metadata": {
    "collapsed": false
   },
   "outputs": [],
   "source": [
    "def get_dates_by_protocol(protocol):\n",
    "    rows = g.query(\"\"\" SELECT ?d WHERE { ?s rdf:type api_network:API .\n",
    "                        ?s api_network:registrationDate ?d .\n",
    "                        ?s api_network:protocol \"%s\" . } \"\"\" % protocol, initNs = ns)\n",
    "    dates = [t[\"?d\"] for t in rows.bindings]\n",
    "    return [r.toPython() for r in dates]\n",
    "rest_dates = get_dates_by_protocol(\"REST\")\n",
    "soap_dates = get_dates_by_protocol(\"SOAP\")\n",
    "json_dates = get_dates_by_protocol(\"JSON\")\n",
    "http_dates = get_dates_by_protocol(\"HTTP\")\n",
    "xml_dates = get_dates_by_protocol(\"XML\")"
   ]
  },
  {
   "cell_type": "code",
   "execution_count": 11,
   "metadata": {
    "collapsed": false
   },
   "outputs": [
    {
     "data": {
      "text/plain": [
       "<matplotlib.text.Text at 0x7f24be11c5c0>"
      ]
     },
     "execution_count": 11,
     "metadata": {},
     "output_type": "execute_result"
    },
    {
     "data": {
      "image/png": "[encoded data removed]",
      "text/plain": [
       "<matplotlib.figure.Figure at 0x7f24bd7379e8>"
      ]
     },
     "metadata": {},
     "output_type": "display_data"
    }
   ],
   "source": [
    "x = date2num(rest_dates)\n",
    "plt.hist(date2num(rest_dates), cumulative=True, bins = 50, label = \"REST\")\n",
    "plt.hist(date2num(json_dates), cumulative=True, bins = 50, label = \"JSON\")\n",
    "plt.hist(date2num(xml_dates), cumulative=True, bins = 50, label = \"XML\", alpha=0.5)\n",
    "plt.hist(date2num(soap_dates), cumulative=True, bins = 50, label = \"SOAP\")\n",
    "plt.hist(date2num(http_dates), cumulative=True, bins = 50, label = \"HTTP\")\n",
    "plt.xticks(np.arange(min(x), max(x)+1, (max(x)+1 - min(x))/5.4), [\"2005\", \"2007\", \"2009\", \"2011\", \"2013\", \"2015\"])\n",
    "plt.legend(loc=2)\n",
    "plt.title(\"Cumulative distribution of number of API groth according to communication protocol\")"
   ]
  },
  {
   "cell_type": "code",
   "execution_count": 12,
   "metadata": {
    "collapsed": true
   },
   "outputs": [],
   "source": [
    "def get_services_by_category(category):\n",
    "    rows = g.query(\"\"\"SELECT ?s WHERE {?s ?p api_network:API .\n",
    "                ?s api_network:primaryCategory|api_network:secondaryCategory cat:%s .}\"\"\" % category, initNs=ns)\n",
    "    return [t[\"?s\"] for t in rows.bindings]"
   ]
  },
  {
   "cell_type": "code",
   "execution_count": 13,
   "metadata": {
    "collapsed": false
   },
   "outputs": [
    {
     "data": {
      "text/plain": [
       "<matplotlib_venn._common.VennDiagram at 0x7f24bd53c470>"
      ]
     },
     "execution_count": 13,
     "metadata": {},
     "output_type": "execute_result"
    },
    {
     "data": {
      "image/png": "[encoded data removed]",
      "text/plain": [
       "<matplotlib.figure.Figure at 0x7f24bd52eef0>"
      ]
     },
     "metadata": {},
     "output_type": "display_data"
    }
   ],
   "source": [
    "set1 = set(get_services_by_category(\"social\"))\n",
    "set2 = set(get_services_by_category(\"tools\"))\n",
    "set3 = set(get_services_by_category(\"ecommerce\"))\n",
    "mv.venn3([set1, set2, set3], (\"social\", \"tools\", \"ecommerce\"))"
   ]
  },
  {
   "cell_type": "code",
   "execution_count": 29,
   "metadata": {
    "collapsed": false
   },
   "outputs": [
    {
     "data": {
      "text/plain": [
       "<matplotlib_venn._common.VennDiagram at 0x7f5e65879748>"
      ]
     },
     "execution_count": 29,
     "metadata": {},
     "output_type": "execute_result"
    },
    {
     "data": {
      "image/png": "[encoded data removed]",
      "text/plain": [
       "<matplotlib.figure.Figure at 0x7f5e65cd1f28>"
      ]
     },
     "metadata": {},
     "output_type": "display_data"
    }
   ],
   "source": [
    "set1 = set(get_services_by_category(\"financial\"))\n",
    "set2 = set(get_services_by_category(\"mapping\"))\n",
    "set3 = set(get_services_by_category(\"ecommerce\"))\n",
    "mv.venn3([set1, set2, set3], (\"financial\", \"mapping\", \"ecommerce\"))"
   ]
  },
  {
   "cell_type": "code",
   "execution_count": 9,
   "metadata": {
    "collapsed": false
   },
   "outputs": [],
   "source": [
    "rows = g.query(\"\"\"SELECT ?s ?d ?d1 WHERE {?s rdf:type api_network:API .\n",
    "                ?s api_network:registrationDate ?d .\n",
    "                ?m rdf:type api_network:Mashup .\n",
    "                ?m gr:include ?s .\n",
    "                ?m api_network:registrationDate ?d1 .\n",
    "                }\"\"\", initNs=ns)\n",
    "service = [t[\"?s\"] for t in rows.bindings]\n",
    "dates = [t[\"?d\"].toPython() for t in rows.bindings]\n",
    "activation_date = [t[\"?d1\"].toPython() for t in rows.bindings]\n",
    "ad = [np.datetime64(f) for f in activation_date]\n",
    "d = [np.datetime64(m) for m in dates]\n",
    "data = {\"Activation date\" : ad,\n",
    "       \"Registration date\" : d,       \n",
    "       \"Service\" : service}\n",
    "sf = DataFrame(data)\n",
    "groups = sf.groupby(\"Service\")"
   ]
  },
  {
   "cell_type": "code",
   "execution_count": 10,
   "metadata": {
    "collapsed": false
   },
   "outputs": [],
   "source": [
    "s = []\n",
    "d = []\n",
    "for gr in groups:\n",
    "    reg_date = gr[1].iloc[[0]][\"Registration date\"]\n",
    "    rd = list(reg_date.items())[0][1]\n",
    "    g = gr[1]\n",
    "    df_with_positif_diff = g[g[\"Activation date\"]>rd]   \n",
    "    try:\n",
    "        arg_min = df_with_positif_diff[\"Activation date\"].argmin()    \n",
    "        diff = sf.iloc[[arg_min]][\"Activation date\"] - sf.iloc[[arg_min]][\"Registration date\"]\n",
    "        s.append(gr[0])\n",
    "        d.append(diff[arg_min])\n",
    "    except:\n",
    "        pass\n",
    "delay_data = DataFrame({\"Service\":s, \"Activation time\":d})"
   ]
  },
  {
   "cell_type": "code",
   "execution_count": 12,
   "metadata": {
    "collapsed": false
   },
   "outputs": [
    {
     "data": {
      "text/plain": [
       "(array([ 429.,  174.,  120.,  102.,   69.,   63.,   60.,   49.,   42.,\n",
       "          34.,   34.,   28.,   28.,   27.,   15.,   23.,   13.,   18.,\n",
       "          11.,   15.,   15.,    3.,    9.,    6.,    6.,    2.,    2.,\n",
       "           6.,    5.,    2.,    2.,    1.,    3.,    1.,    3.,    1.,\n",
       "           1.,    0.,    0.,    1.,    0.,    0.,    1.,    0.,    0.,\n",
       "           0.,    0.,    0.,    0.,    1.]),\n",
       " array([  1.00000000e+00,   6.09400000e+01,   1.20880000e+02,\n",
       "          1.80820000e+02,   2.40760000e+02,   3.00700000e+02,\n",
       "          3.60640000e+02,   4.20580000e+02,   4.80520000e+02,\n",
       "          5.40460000e+02,   6.00400000e+02,   6.60340000e+02,\n",
       "          7.20280000e+02,   7.80220000e+02,   8.40160000e+02,\n",
       "          9.00100000e+02,   9.60040000e+02,   1.01998000e+03,\n",
       "          1.07992000e+03,   1.13986000e+03,   1.19980000e+03,\n",
       "          1.25974000e+03,   1.31968000e+03,   1.37962000e+03,\n",
       "          1.43956000e+03,   1.49950000e+03,   1.55944000e+03,\n",
       "          1.61938000e+03,   1.67932000e+03,   1.73926000e+03,\n",
       "          1.79920000e+03,   1.85914000e+03,   1.91908000e+03,\n",
       "          1.97902000e+03,   2.03896000e+03,   2.09890000e+03,\n",
       "          2.15884000e+03,   2.21878000e+03,   2.27872000e+03,\n",
       "          2.33866000e+03,   2.39860000e+03,   2.45854000e+03,\n",
       "          2.51848000e+03,   2.57842000e+03,   2.63836000e+03,\n",
       "          2.69830000e+03,   2.75824000e+03,   2.81818000e+03,\n",
       "          2.87812000e+03,   2.93806000e+03,   2.99800000e+03]),\n",
       " <a list of 50 Patch objects>)"
      ]
     },
     "execution_count": 12,
     "metadata": {},
     "output_type": "execute_result"
    },
    {
     "data": {
      "image/png": "[encoded data removed]",
      "text/plain": [
       "<matplotlib.figure.Figure at 0x7f66d5e91550>"
      ]
     },
     "metadata": {},
     "output_type": "display_data"
    }
   ],
   "source": [
    "plt.hist((delay_data[\"Activation time\"]).astype('timedelta64[D]'), bins=50)"
   ]
  },
  {
   "cell_type": "code",
   "execution_count": 15,
   "metadata": {
    "collapsed": false
   },
   "outputs": [
    {
     "data": {
      "image/png": "[encoded data removed]",
      "text/plain": [
       "<matplotlib.figure.Figure at 0x7f66d5770080>"
      ]
     },
     "metadata": {},
     "output_type": "display_data"
    }
   ],
   "source": [
    "import pylab as pl\n",
    "pl.hist((delay_data[\"Activation time\"]).astype('timedelta64[D]'), bins=np.linspace(5, 3000, 50)) #bins=np.logspace(0.1, 4, 50)\n",
    "pl.gca().set_xscale(\"log\")\n",
    "pl.gca().set_yscale(\"log\")\n",
    "pl.show()"
   ]
  },
  {
   "cell_type": "code",
   "execution_count": 106,
   "metadata": {
    "collapsed": false
   },
   "outputs": [],
   "source": [
    "# select most popular categories\n",
    "def count_popular_categories():\n",
    "    r = g.query(\"\"\"SELECT ?c (COUNT(?c) as ?catCount) WHERE  {\n",
    "                    ?s api_network:primaryCategory|api_network:secondaryCategory ?c .\n",
    "                    }\n",
    "                    GROUP BY ?c\"\"\", initNs=ns)\n",
    "    frame = DataFrame()\n",
    "    frame[\"Category\"] = [t[\"?c\"].toPython() for t in r.bindings]\n",
    "    frame[\"Count\"] = [t[\"?catCount\"].toPython() for t in r.bindings]\n",
    "    #frame = frame.sort(\"Count\", ascending = 0)\n",
    "    selected = frame[frame[\"Count\"]>540][\"Category\"] #Series of top used categories\n",
    "    return selected"
   ]
  },
  {
   "cell_type": "code",
   "execution_count": 109,
   "metadata": {
    "collapsed": false
   },
   "outputs": [],
   "source": [
    "selected = count_popular_categories()"
   ]
  },
  {
   "cell_type": "code",
   "execution_count": 108,
   "metadata": {
    "collapsed": false
   },
   "outputs": [
    {
     "data": {
      "text/plain": [
       "3508"
      ]
     },
     "execution_count": 108,
     "metadata": {},
     "output_type": "execute_result"
    }
   ],
   "source": [
    "# count number of transitions from given api category to given mashup category\n",
    "def count_num_of_transitions(cat1, cat2):\n",
    "    r = g.query(\"\"\"SELECT ?s ?m WHERE { ?s ?p api_network:API .\n",
    "                    ?m rdf:type api_network:Mashup .\n",
    "                    ?m gr:include ?s .\n",
    "                    ?s api_network:primaryCategory|api_network:secondaryCategory cat:%s. \n",
    "                    ?m api_network:tag cat:%s}\"\"\" % (cat1, cat2) , initNs=ns)\n",
    "    return len(r)\n",
    "count_num_of_transitions(\"mapping\", \"mapping\")\n",
    "#links = DataFrame()\n",
    "#links[\"API\"] = [t[\"?s\"].toPython() for t in r.bindings]\n",
    "#links[\"Mashup\"] = [t[\"?m\"].toPython() for t in r.bindings]"
   ]
  },
  {
   "cell_type": "code",
   "execution_count": 142,
   "metadata": {
    "collapsed": false,
    "scrolled": false
   },
   "outputs": [],
   "source": [
    "diffusion_frame = DataFrame()\n",
    "for api_cat in selected:\n",
    "    for mashup_cat in selected:\n",
    "        api_cat = api_cat.replace(\"http://www.programmableweb.com/category/\", \"\")\n",
    "        mashup_cat = mashup_cat.replace(\"http://www.programmableweb.com/category/\", \"\")\n",
    "        df = DataFrame([[api_cat, mashup_cat, count_num_of_transitions(api_cat, mashup_cat)]], columns = [\"API Category\", \"Mashup Category\", \"Num of Transactions\"])\n",
    "        diffusion_frame = diffusion_frame.append(df, ignore_index=True)\n",
    "        #count_num_of_transitions(api_cat.replace(\"http://www.programmableweb.com/category/\", \"\"), mashup_cat.replace(\"http://www.programmableweb.com/category/\", \"\"))        \n",
    "        #print(api_cat.replace(\"http://www.programmableweb.com/category/\", \"\"), mashup_cat.replace(\"http://www.programmableweb.com/category/\", \"\"), \"\\n\")"
   ]
  },
  {
   "cell_type": "code",
   "execution_count": 143,
   "metadata": {
    "collapsed": false
   },
   "outputs": [],
   "source": [
    "diffusion_frame = diffusion_frame.pivot(\"API Category\", \"Mashup Category\", \"Num of Transactions\")"
   ]
  },
  {
   "cell_type": "code",
   "execution_count": 144,
   "metadata": {
    "collapsed": false
   },
   "outputs": [
    {
     "data": {
      "text/html": [
       "<div>\n",
       "<table border=\"1\" class=\"dataframe\">\n",
       "  <thead>\n",
       "    <tr style=\"text-align: right;\">\n",
       "      <th>Mashup Category</th>\n",
       "      <th>data</th>\n",
       "      <th>ecommerce</th>\n",
       "      <th>enterprise</th>\n",
       "      <th>financial</th>\n",
       "      <th>government</th>\n",
       "      <th>mapping</th>\n",
       "      <th>marketing</th>\n",
       "      <th>messaging</th>\n",
       "      <th>mobile</th>\n",
       "      <th>payments</th>\n",
       "      <th>reference</th>\n",
       "      <th>search</th>\n",
       "      <th>social</th>\n",
       "      <th>telephony</th>\n",
       "      <th>tools</th>\n",
       "    </tr>\n",
       "    <tr>\n",
       "      <th>API Category</th>\n",
       "      <th></th>\n",
       "      <th></th>\n",
       "      <th></th>\n",
       "      <th></th>\n",
       "      <th></th>\n",
       "      <th></th>\n",
       "      <th></th>\n",
       "      <th></th>\n",
       "      <th></th>\n",
       "      <th></th>\n",
       "      <th></th>\n",
       "      <th></th>\n",
       "      <th></th>\n",
       "      <th></th>\n",
       "      <th></th>\n",
       "    </tr>\n",
       "  </thead>\n",
       "  <tbody>\n",
       "    <tr>\n",
       "      <th>data</th>\n",
       "      <td>11</td>\n",
       "      <td>3</td>\n",
       "      <td>0</td>\n",
       "      <td>1</td>\n",
       "      <td>0</td>\n",
       "      <td>18</td>\n",
       "      <td>1</td>\n",
       "      <td>2</td>\n",
       "      <td>1</td>\n",
       "      <td>0</td>\n",
       "      <td>4</td>\n",
       "      <td>21</td>\n",
       "      <td>13</td>\n",
       "      <td>1</td>\n",
       "      <td>3</td>\n",
       "    </tr>\n",
       "    <tr>\n",
       "      <th>ecommerce</th>\n",
       "      <td>3</td>\n",
       "      <td>897</td>\n",
       "      <td>2</td>\n",
       "      <td>10</td>\n",
       "      <td>2</td>\n",
       "      <td>187</td>\n",
       "      <td>4</td>\n",
       "      <td>34</td>\n",
       "      <td>43</td>\n",
       "      <td>21</td>\n",
       "      <td>69</td>\n",
       "      <td>368</td>\n",
       "      <td>156</td>\n",
       "      <td>12</td>\n",
       "      <td>27</td>\n",
       "    </tr>\n",
       "    <tr>\n",
       "      <th>enterprise</th>\n",
       "      <td>2</td>\n",
       "      <td>18</td>\n",
       "      <td>61</td>\n",
       "      <td>8</td>\n",
       "      <td>1</td>\n",
       "      <td>26</td>\n",
       "      <td>9</td>\n",
       "      <td>15</td>\n",
       "      <td>10</td>\n",
       "      <td>0</td>\n",
       "      <td>12</td>\n",
       "      <td>38</td>\n",
       "      <td>64</td>\n",
       "      <td>6</td>\n",
       "      <td>24</td>\n",
       "    </tr>\n",
       "    <tr>\n",
       "      <th>financial</th>\n",
       "      <td>0</td>\n",
       "      <td>23</td>\n",
       "      <td>8</td>\n",
       "      <td>35</td>\n",
       "      <td>3</td>\n",
       "      <td>11</td>\n",
       "      <td>4</td>\n",
       "      <td>8</td>\n",
       "      <td>7</td>\n",
       "      <td>20</td>\n",
       "      <td>9</td>\n",
       "      <td>23</td>\n",
       "      <td>16</td>\n",
       "      <td>6</td>\n",
       "      <td>7</td>\n",
       "    </tr>\n",
       "    <tr>\n",
       "      <th>government</th>\n",
       "      <td>7</td>\n",
       "      <td>4</td>\n",
       "      <td>3</td>\n",
       "      <td>19</td>\n",
       "      <td>79</td>\n",
       "      <td>48</td>\n",
       "      <td>5</td>\n",
       "      <td>4</td>\n",
       "      <td>7</td>\n",
       "      <td>0</td>\n",
       "      <td>15</td>\n",
       "      <td>9</td>\n",
       "      <td>9</td>\n",
       "      <td>4</td>\n",
       "      <td>4</td>\n",
       "    </tr>\n",
       "    <tr>\n",
       "      <th>mapping</th>\n",
       "      <td>17</td>\n",
       "      <td>217</td>\n",
       "      <td>21</td>\n",
       "      <td>28</td>\n",
       "      <td>121</td>\n",
       "      <td>3508</td>\n",
       "      <td>6</td>\n",
       "      <td>77</td>\n",
       "      <td>126</td>\n",
       "      <td>0</td>\n",
       "      <td>238</td>\n",
       "      <td>456</td>\n",
       "      <td>433</td>\n",
       "      <td>35</td>\n",
       "      <td>100</td>\n",
       "    </tr>\n",
       "    <tr>\n",
       "      <th>marketing</th>\n",
       "      <td>0</td>\n",
       "      <td>8</td>\n",
       "      <td>1</td>\n",
       "      <td>0</td>\n",
       "      <td>0</td>\n",
       "      <td>4</td>\n",
       "      <td>6</td>\n",
       "      <td>16</td>\n",
       "      <td>5</td>\n",
       "      <td>0</td>\n",
       "      <td>7</td>\n",
       "      <td>6</td>\n",
       "      <td>9</td>\n",
       "      <td>4</td>\n",
       "      <td>12</td>\n",
       "    </tr>\n",
       "    <tr>\n",
       "      <th>messaging</th>\n",
       "      <td>1</td>\n",
       "      <td>30</td>\n",
       "      <td>5</td>\n",
       "      <td>10</td>\n",
       "      <td>2</td>\n",
       "      <td>32</td>\n",
       "      <td>4</td>\n",
       "      <td>314</td>\n",
       "      <td>224</td>\n",
       "      <td>3</td>\n",
       "      <td>28</td>\n",
       "      <td>45</td>\n",
       "      <td>97</td>\n",
       "      <td>111</td>\n",
       "      <td>20</td>\n",
       "    </tr>\n",
       "    <tr>\n",
       "      <th>mobile</th>\n",
       "      <td>1</td>\n",
       "      <td>25</td>\n",
       "      <td>3</td>\n",
       "      <td>9</td>\n",
       "      <td>3</td>\n",
       "      <td>138</td>\n",
       "      <td>1</td>\n",
       "      <td>105</td>\n",
       "      <td>157</td>\n",
       "      <td>1</td>\n",
       "      <td>23</td>\n",
       "      <td>84</td>\n",
       "      <td>146</td>\n",
       "      <td>15</td>\n",
       "      <td>21</td>\n",
       "    </tr>\n",
       "    <tr>\n",
       "      <th>payments</th>\n",
       "      <td>0</td>\n",
       "      <td>27</td>\n",
       "      <td>1</td>\n",
       "      <td>2</td>\n",
       "      <td>0</td>\n",
       "      <td>5</td>\n",
       "      <td>1</td>\n",
       "      <td>9</td>\n",
       "      <td>4</td>\n",
       "      <td>25</td>\n",
       "      <td>2</td>\n",
       "      <td>11</td>\n",
       "      <td>11</td>\n",
       "      <td>5</td>\n",
       "      <td>6</td>\n",
       "    </tr>\n",
       "    <tr>\n",
       "      <th>reference</th>\n",
       "      <td>5</td>\n",
       "      <td>41</td>\n",
       "      <td>6</td>\n",
       "      <td>7</td>\n",
       "      <td>20</td>\n",
       "      <td>184</td>\n",
       "      <td>5</td>\n",
       "      <td>13</td>\n",
       "      <td>38</td>\n",
       "      <td>0</td>\n",
       "      <td>124</td>\n",
       "      <td>200</td>\n",
       "      <td>87</td>\n",
       "      <td>10</td>\n",
       "      <td>34</td>\n",
       "    </tr>\n",
       "    <tr>\n",
       "      <th>search</th>\n",
       "      <td>4</td>\n",
       "      <td>384</td>\n",
       "      <td>9</td>\n",
       "      <td>13</td>\n",
       "      <td>15</td>\n",
       "      <td>357</td>\n",
       "      <td>15</td>\n",
       "      <td>54</td>\n",
       "      <td>63</td>\n",
       "      <td>1</td>\n",
       "      <td>111</td>\n",
       "      <td>830</td>\n",
       "      <td>207</td>\n",
       "      <td>6</td>\n",
       "      <td>44</td>\n",
       "    </tr>\n",
       "    <tr>\n",
       "      <th>social</th>\n",
       "      <td>15</td>\n",
       "      <td>163</td>\n",
       "      <td>29</td>\n",
       "      <td>18</td>\n",
       "      <td>17</td>\n",
       "      <td>481</td>\n",
       "      <td>26</td>\n",
       "      <td>247</td>\n",
       "      <td>152</td>\n",
       "      <td>3</td>\n",
       "      <td>166</td>\n",
       "      <td>517</td>\n",
       "      <td>1230</td>\n",
       "      <td>62</td>\n",
       "      <td>134</td>\n",
       "    </tr>\n",
       "    <tr>\n",
       "      <th>telephony</th>\n",
       "      <td>2</td>\n",
       "      <td>46</td>\n",
       "      <td>10</td>\n",
       "      <td>11</td>\n",
       "      <td>7</td>\n",
       "      <td>48</td>\n",
       "      <td>8</td>\n",
       "      <td>447</td>\n",
       "      <td>380</td>\n",
       "      <td>8</td>\n",
       "      <td>67</td>\n",
       "      <td>66</td>\n",
       "      <td>205</td>\n",
       "      <td>349</td>\n",
       "      <td>24</td>\n",
       "    </tr>\n",
       "    <tr>\n",
       "      <th>tools</th>\n",
       "      <td>3</td>\n",
       "      <td>7</td>\n",
       "      <td>4</td>\n",
       "      <td>2</td>\n",
       "      <td>3</td>\n",
       "      <td>64</td>\n",
       "      <td>4</td>\n",
       "      <td>21</td>\n",
       "      <td>19</td>\n",
       "      <td>1</td>\n",
       "      <td>20</td>\n",
       "      <td>46</td>\n",
       "      <td>72</td>\n",
       "      <td>19</td>\n",
       "      <td>33</td>\n",
       "    </tr>\n",
       "  </tbody>\n",
       "</table>\n",
       "</div>"
      ],
      "text/plain": [
       "Mashup Category  data  ecommerce  enterprise  financial  government  mapping  \\\n",
       "API Category                                                                   \n",
       "data               11          3           0          1           0       18   \n",
       "ecommerce           3        897           2         10           2      187   \n",
       "enterprise          2         18          61          8           1       26   \n",
       "financial           0         23           8         35           3       11   \n",
       "government          7          4           3         19          79       48   \n",
       "mapping            17        217          21         28         121     3508   \n",
       "marketing           0          8           1          0           0        4   \n",
       "messaging           1         30           5         10           2       32   \n",
       "mobile              1         25           3          9           3      138   \n",
       "payments            0         27           1          2           0        5   \n",
       "reference           5         41           6          7          20      184   \n",
       "search              4        384           9         13          15      357   \n",
       "social             15        163          29         18          17      481   \n",
       "telephony           2         46          10         11           7       48   \n",
       "tools               3          7           4          2           3       64   \n",
       "\n",
       "Mashup Category  marketing  messaging  mobile  payments  reference  search  \\\n",
       "API Category                                                                 \n",
       "data                     1          2       1         0          4      21   \n",
       "ecommerce                4         34      43        21         69     368   \n",
       "enterprise               9         15      10         0         12      38   \n",
       "financial                4          8       7        20          9      23   \n",
       "government               5          4       7         0         15       9   \n",
       "mapping                  6         77     126         0        238     456   \n",
       "marketing                6         16       5         0          7       6   \n",
       "messaging                4        314     224         3         28      45   \n",
       "mobile                   1        105     157         1         23      84   \n",
       "payments                 1          9       4        25          2      11   \n",
       "reference                5         13      38         0        124     200   \n",
       "search                  15         54      63         1        111     830   \n",
       "social                  26        247     152         3        166     517   \n",
       "telephony                8        447     380         8         67      66   \n",
       "tools                    4         21      19         1         20      46   \n",
       "\n",
       "Mashup Category  social  telephony  tools  \n",
       "API Category                               \n",
       "data                 13          1      3  \n",
       "ecommerce           156         12     27  \n",
       "enterprise           64          6     24  \n",
       "financial            16          6      7  \n",
       "government            9          4      4  \n",
       "mapping             433         35    100  \n",
       "marketing             9          4     12  \n",
       "messaging            97        111     20  \n",
       "mobile              146         15     21  \n",
       "payments             11          5      6  \n",
       "reference            87         10     34  \n",
       "search              207          6     44  \n",
       "social             1230         62    134  \n",
       "telephony           205        349     24  \n",
       "tools                72         19     33  "
      ]
     },
     "execution_count": 144,
     "metadata": {},
     "output_type": "execute_result"
    }
   ],
   "source": [
    "diffusion_frame"
   ]
  },
  {
   "cell_type": "code",
   "execution_count": 157,
   "metadata": {
    "collapsed": false
   },
   "outputs": [
    {
     "data": {
      "image/png": "[encoded data removed]",
      "text/plain": [
       "<matplotlib.figure.Figure at 0x7fbfd3eb0828>"
      ]
     },
     "metadata": {},
     "output_type": "display_data"
    }
   ],
   "source": [
    "ax = plt.axes()\n",
    "sns.heatmap(diffusion_frame, annot=True, fmt='d') #, center = diffusion_frame.loc[\"reference\", \"reference\"]\n",
    "ax.set_title('Functionality diffusion matrix between 15 most popular categories')\n",
    "plt.show()"
   ]
  }
 ],
 "metadata": {
  "kernelspec": {
   "display_name": "Python 3",
   "language": "python",
   "name": "python3"
  },
  "language_info": {
   "codemirror_mode": {
    "name": "ipython",
    "version": 3
   },
   "file_extension": ".py",
   "mimetype": "text/x-python",
   "name": "python",
   "nbconvert_exporter": "python",
   "pygments_lexer": "ipython3",
   "version": "3.4.3"
  }
 },
 "nbformat": 4,
 "nbformat_minor": 0
}
